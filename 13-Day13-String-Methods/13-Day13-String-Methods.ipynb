{
 "cells": [
  {
   "cell_type": "markdown",
   "id": "65929a26-b633-4e8f-92ed-50621dda7404",
   "metadata": {},
   "source": [
    "# Strings are immutable"
   ]
  },
  {
   "cell_type": "code",
   "execution_count": 17,
   "id": "bd941c07-5fcc-4ce4-8782-6ba942d7a729",
   "metadata": {},
   "outputs": [
    {
     "name": "stdout",
     "output_type": "stream",
     "text": [
      "31\n",
      "!!!Bhargav!! !!!!!!!! Bhargav! \n",
      "!!!BHARGAV!! !!!!!!!! BHARGAV! \n",
      "!!!bhargav!! !!!!!!!! bhargav! \n",
      "!!!Bhargav!! !!!!!!!! Bhargav!\n",
      "!!!Bhargav!! !!!!!!!! Bhargav\n",
      "!!!Rajyaguru!! !!!!!!!! Rajyaguru! \n",
      "['!!!Bhargav!!', '!!!!!!!!', 'Bhargav!']\n",
      "Introduction to js\n"
     ]
    }
   ],
   "source": [
    "a=\"!!!Bhargav!! !!!!!!!! Bhargav! \"\n",
    "print(len(a))\n",
    "print(a)\n",
    "print(a.upper())\n",
    "print(a.lower())\n",
    "print(a.rstrip())\n",
    "print(a.rstrip(\"! \"))\n",
    "print(a.replace(\"Bhargav\", \"Rajyaguru\"))\n",
    "print(a.split())\n",
    "blogHeading=\"introduction to jS\"\n",
    "print(blogHeading.capitalize())"
   ]
  },
  {
   "cell_type": "code",
   "execution_count": 25,
   "id": "08fc3afe-1ffe-4e57-81d9-5dca18fe6a16",
   "metadata": {},
   "outputs": [
    {
     "name": "stdout",
     "output_type": "stream",
     "text": [
      "True\n",
      "True\n",
      "27\n"
     ]
    }
   ],
   "source": [
    "str1=\"Welcome to the Console !!!\"\n",
    "print(str1.endswith(\"!!!\"))\n",
    "print(str1.endswith(\"to\",4,10))\n",
    "str1=\"His name is Dan. He is an honest man.\"\n",
    "#print(str1.find(\"ishh\"))\n",
    "print(str1.find(\"one\"))\n",
    "#print(str1.index(\"ishh\"))"
   ]
  },
  {
   "cell_type": "code",
   "execution_count": 26,
   "id": "91c904c8-7d62-4e5f-9bad-4927d8b41161",
   "metadata": {},
   "outputs": [
    {
     "name": "stdout",
     "output_type": "stream",
     "text": [
      "False\n",
      "True\n"
     ]
    }
   ],
   "source": [
    "str1=\"Welcome to the Console\"\n",
    "print(str1.isalnum())\n",
    "str1=\"welcome\"\n",
    "print(str1.isalpha())"
   ]
  },
  {
   "cell_type": "code",
   "execution_count": 27,
   "id": "99ea677a-82db-4d2f-9676-f736ac87a553",
   "metadata": {},
   "outputs": [
    {
     "name": "stdout",
     "output_type": "stream",
     "text": [
      "True\n"
     ]
    }
   ],
   "source": [
    "str1=\"hello world\"\n",
    "print(str1.islower())"
   ]
  },
  {
   "cell_type": "code",
   "execution_count": 33,
   "id": "de9fbba7-3f9d-4d77-972e-d69a052eb859",
   "metadata": {},
   "outputs": [
    {
     "name": "stdout",
     "output_type": "stream",
     "text": [
      "False\n",
      "True\n",
      "True\n"
     ]
    }
   ],
   "source": [
    "str1=\"We wish you a Merry Christmas\\n\"\n",
    "print(str1.isprintable())\n",
    "\n",
    "str1=\"    \"\n",
    "#using spacebar\n",
    "print(str1.isspace())\n",
    "\n",
    "str1=\"\t\"\n",
    "print(str1.isspace())"
   ]
  },
  {
   "cell_type": "code",
   "execution_count": 35,
   "id": "118f2598-3263-445c-9326-90f56018e974",
   "metadata": {},
   "outputs": [
    {
     "name": "stdout",
     "output_type": "stream",
     "text": [
      "True\n"
     ]
    }
   ],
   "source": [
    "str1 = \"World Health Organization\"\n",
    "print(str1.istitle())"
   ]
  },
  {
   "cell_type": "code",
   "execution_count": 39,
   "id": "7b189920-bca5-41ef-beaa-314f2eae9674",
   "metadata": {},
   "outputs": [
    {
     "name": "stdout",
     "output_type": "stream",
     "text": [
      "False\n"
     ]
    }
   ],
   "source": [
    "str1 = \"To Kill a Mocking Bird\"\n",
    "print(str1.istitle())"
   ]
  },
  {
   "cell_type": "code",
   "execution_count": 40,
   "id": "c3ea594d-ba67-4caa-992a-885ef204ff09",
   "metadata": {},
   "outputs": [
    {
     "name": "stdout",
     "output_type": "stream",
     "text": [
      "True\n"
     ]
    }
   ],
   "source": [
    "str1=\"Python is a Interpreted Language\"\n",
    "print(str1.startswith(\"Python\"))"
   ]
  },
  {
   "cell_type": "code",
   "execution_count": 41,
   "id": "80a97aa5-cc01-4e50-8725-6ec596203201",
   "metadata": {},
   "outputs": [
    {
     "name": "stdout",
     "output_type": "stream",
     "text": [
      "pYTHON IS A iNTERPRETED lANGUAGE\n"
     ]
    }
   ],
   "source": [
    "str1=\"Python is a Interpreted Language\"\n",
    "print(str1.swapcase())"
   ]
  }
 ],
 "metadata": {
  "kernelspec": {
   "display_name": "Python 3 (ipykernel)",
   "language": "python",
   "name": "python3"
  },
  "language_info": {
   "codemirror_mode": {
    "name": "ipython",
    "version": 3
   },
   "file_extension": ".py",
   "mimetype": "text/x-python",
   "name": "python",
   "nbconvert_exporter": "python",
   "pygments_lexer": "ipython3",
   "version": "3.12.8"
  }
 },
 "nbformat": 4,
 "nbformat_minor": 5
}
